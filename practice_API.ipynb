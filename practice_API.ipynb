{
 "cells": [
  {
   "cell_type": "code",
   "execution_count": 115,
   "id": "98f7a67d-59f4-4096-9fec-96a789a09ca6",
   "metadata": {},
   "outputs": [],
   "source": [
    "import requests\n",
    "import pandas as pd\n",
    "from datetime import datetime\n",
    "from typing import Dict, Any"
   ]
  },
  {
   "cell_type": "markdown",
   "id": "8ea27339-e39c-4e3e-b052-47d326cc80f2",
   "metadata": {},
   "source": [
    "#### Task 1: Here my approach is to write a function and return a dictionary with the document information."
   ]
  },
  {
   "cell_type": "code",
   "execution_count": 119,
   "id": "d60a2e2c-3f58-4b57-a8d2-86dbb42830b8",
   "metadata": {},
   "outputs": [],
   "source": [
    "def get_presidential_document(start_date: str, end_date: str, nth_document: int) -> Dict[Any, Any]:\n",
    "    \"\"\"\n",
    "    Problem: To get a specific presidential document information in a specific time period?\n",
    "    \n",
    "    Args:\n",
    "        start_date (str): Start date in format 'DD.MM.YYYY'\n",
    "        end_date (str): End date in format 'DD.MM.YYYY'\n",
    "        nth_document (int): Position of document to retrieve (1-based index)\n",
    "        \n",
    "    Returns:\n",
    "        dict: Document information including title, abstract, publication date, document number, and type\n",
    "    \"\"\"\n",
    "\n",
    "    URL = \"https://www.federalregister.gov/api/v1/documents\"\n",
    "    \n",
    "    # As I see the API requires dates in YYYY-MM-DD format, convert dates to API format (YYYY-MM-DD)\n",
    "    # I find solution here: 😀\n",
    "    # https://stackoverflow.com/questions/502726/converting-date-between-dd-mm-yyyy-and-yyyy-mm-dd\n",
    "\n",
    "    start = datetime.strptime(start_date, '%d.%m.%Y').strftime('%Y-%m-%d')\n",
    "    end = datetime.strptime(end_date, '%d.%m.%Y').strftime('%Y-%m-%d')\n",
    "    \n",
    "\n",
    "\n",
    "    params = {\n",
    "    'conditions[type][]': 'PRESDOCU',  # Filter for only presidential documents\n",
    "    'conditions[publication_date][gte]': start,  # Greater than or equal to start date\n",
    "    'conditions[publication_date][lte]': end,    # Less than or equal to end date\n",
    "    'per_page': 1,  # Only one document per page\n",
    "    'page': nth_document,  # Ex. To fetch the Xth document\n",
    "    'order': 'oldest'  # Sort by oldest first\n",
    "}\n",
    "    \n",
    "    response = requests.get(f\"{URL}\", params=params)\n",
    "    \n",
    "    # Check if the request was successful ✅\n",
    "    if response.status_code != 200:\n",
    "        raise Exception(f\"API request failed with status code {response.status_code}\")\n",
    "        \n",
    "    data = response.json()\n",
    "    \n",
    "    if len(data['results']) > 0:\n",
    "        # As data is inside a results array, I can get the first element\n",
    "        doc = data['results'][0]\n",
    "        return {\n",
    "            'number': nth_document,\n",
    "            'publication_date': doc['publication_date'],\n",
    "            'type': doc['type'],\n",
    "            'document_number': doc['document_number'],\n",
    "            'title': doc['title'],\n",
    "            'abstract': doc['abstract'],\n",
    "            'pdf_url': doc['pdf_url']\n",
    "        }\n",
    "    else: \n",
    "        return None # No document found at this position"
   ]
  },
  {
   "cell_type": "markdown",
   "id": "d2d2a3fe-d50e-4507-85a3-64b843b7054d",
   "metadata": {},
   "source": [
    "### Task 2: Extract document data for the first 20 documents from 1st December 2010 to 31st December 2010"
   ]
  },
  {
   "cell_type": "code",
   "execution_count": 121,
   "id": "123ab148-f0a1-4376-bdf1-ae4ce30f059e",
   "metadata": {},
   "outputs": [
    {
     "name": "stdout",
     "output_type": "stream",
     "text": [
      "\n",
      "Data saved to presidential_documents.csv\n"
     ]
    }
   ],
   "source": [
    "# for better error handling, I will use try except blocks\n",
    "documents = []\n",
    "try:\n",
    "    # Get first 20 documents from oldest to newest\n",
    "    for i in range(1, 21):  # means document number from 1 to 20\n",
    "        doc = get_presidential_document('01.12.2010', '31.12.2010', i)\n",
    "        if doc is not None:  # Only append if document was found\n",
    "            documents.append(doc)\n",
    "            \n",
    "    # Create DataFrame from the list of documents\n",
    "    df = pd.DataFrame(documents)\n",
    "    \n",
    "    # Save to data to either CSV or Excel\n",
    "    df.to_csv('presidential_documents.csv', index=False)\n",
    "    # df.to_excel('presidential_documents.xlsx', index=False)\n",
    "    print(\"\\nData saved to presidential_documents.csv\")\n",
    "    \n",
    "except Exception as e:\n",
    "    print(f\"Error: {e}\")"
   ]
  },
  {
   "cell_type": "code",
   "execution_count": 122,
   "id": "ea25f7ab-ba83-4323-b8be-2674f0b93110",
   "metadata": {},
   "outputs": [
    {
     "name": "stdout",
     "output_type": "stream",
     "text": [
      "\n",
      "First 20 Presidential Documents (1st Dec 2010 to 31st Dec 2010):\n"
     ]
    },
    {
     "data": {
      "text/html": [
       "<div>\n",
       "<style scoped>\n",
       "    .dataframe tbody tr th:only-of-type {\n",
       "        vertical-align: middle;\n",
       "    }\n",
       "\n",
       "    .dataframe tbody tr th {\n",
       "        vertical-align: top;\n",
       "    }\n",
       "\n",
       "    .dataframe thead th {\n",
       "        text-align: right;\n",
       "    }\n",
       "</style>\n",
       "<table border=\"1\" class=\"dataframe\">\n",
       "  <thead>\n",
       "    <tr style=\"text-align: right;\">\n",
       "      <th></th>\n",
       "      <th>number</th>\n",
       "      <th>publication_date</th>\n",
       "      <th>type</th>\n",
       "      <th>document_number</th>\n",
       "      <th>title</th>\n",
       "      <th>abstract</th>\n",
       "      <th>pdf_url</th>\n",
       "    </tr>\n",
       "  </thead>\n",
       "  <tbody>\n",
       "    <tr>\n",
       "      <th>0</th>\n",
       "      <td>1</td>\n",
       "      <td>2010-12-01</td>\n",
       "      <td>Presidential Document</td>\n",
       "      <td>2010-30299</td>\n",
       "      <td>Thanksgiving Day, 2010</td>\n",
       "      <td>None</td>\n",
       "      <td>https://www.govinfo.gov/content/pkg/FR-2010-12...</td>\n",
       "    </tr>\n",
       "    <tr>\n",
       "      <th>1</th>\n",
       "      <td>2</td>\n",
       "      <td>2010-12-27</td>\n",
       "      <td>Presidential Document</td>\n",
       "      <td>2010-32617</td>\n",
       "      <td>National Mentoring Month, 2011</td>\n",
       "      <td>None</td>\n",
       "      <td>https://www.govinfo.gov/content/pkg/FR-2010-12...</td>\n",
       "    </tr>\n",
       "  </tbody>\n",
       "</table>\n",
       "</div>"
      ],
      "text/plain": [
       "   number publication_date                   type document_number  \\\n",
       "0       1       2010-12-01  Presidential Document      2010-30299   \n",
       "1       2       2010-12-27  Presidential Document      2010-32617   \n",
       "\n",
       "                            title abstract  \\\n",
       "0          Thanksgiving Day, 2010     None   \n",
       "1  National Mentoring Month, 2011     None   \n",
       "\n",
       "                                             pdf_url  \n",
       "0  https://www.govinfo.gov/content/pkg/FR-2010-12...  \n",
       "1  https://www.govinfo.gov/content/pkg/FR-2010-12...  "
      ]
     },
     "execution_count": 122,
     "metadata": {},
     "output_type": "execute_result"
    }
   ],
   "source": [
    "# Print the DataFrame\n",
    "print(\"\\nFirst 20 Presidential Documents (1st Dec 2010 to 31st Dec 2010):\")\n",
    "df"
   ]
  },
  {
   "cell_type": "code",
   "execution_count": null,
   "id": "622e6ecd-24b6-47b6-8a24-d998c857cd3a",
   "metadata": {},
   "outputs": [],
   "source": []
  },
  {
   "cell_type": "code",
   "execution_count": null,
   "id": "18c88e5f-7626-4c33-9914-4c6912b8b3a1",
   "metadata": {},
   "outputs": [],
   "source": []
  },
  {
   "cell_type": "code",
   "execution_count": null,
   "id": "6373aa11-6ea1-4fc0-8ecd-dd5e37c13250",
   "metadata": {},
   "outputs": [],
   "source": []
  },
  {
   "cell_type": "code",
   "execution_count": null,
   "id": "d49d42e7-ce73-42dd-9ef9-9633b94c3ec6",
   "metadata": {},
   "outputs": [],
   "source": []
  },
  {
   "cell_type": "code",
   "execution_count": null,
   "id": "63ddf94e-2073-4b9b-b563-ebcaf034174a",
   "metadata": {},
   "outputs": [],
   "source": []
  }
 ],
 "metadata": {
  "kernelspec": {
   "display_name": "Python 3 (ipykernel)",
   "language": "python",
   "name": "python3"
  },
  "language_info": {
   "codemirror_mode": {
    "name": "ipython",
    "version": 3
   },
   "file_extension": ".py",
   "mimetype": "text/x-python",
   "name": "python",
   "nbconvert_exporter": "python",
   "pygments_lexer": "ipython3",
   "version": "3.12.4"
  }
 },
 "nbformat": 4,
 "nbformat_minor": 5
}
